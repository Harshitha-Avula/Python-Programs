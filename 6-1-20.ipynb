{
 "cells": [
  {
   "cell_type": "code",
   "execution_count": null,
   "metadata": {},
   "outputs": [],
   "source": [
    "# while loop,print sum of even numbers\n",
    "n=int(input(\"enter a no : \"))\n",
    "c=0\n",
    "i=1\n",
    "while i<=n:\n",
    "    if i%2==0:\n",
    "        c=c+i\n",
    "    i=i+1\n",
    "print(c)\n",
    "    "
   ]
  },
  {
   "cell_type": "code",
   "execution_count": null,
   "metadata": {},
   "outputs": [],
   "source": [
    "# print no in reverse order\n",
    "\n",
    "n=int(input(\"enter a no : \"))\n",
    "while n!=0:\n",
    "    print(n%10,end=' ')\n",
    "    n=n//10\n",
    "    \n",
    "    "
   ]
  },
  {
   "cell_type": "code",
   "execution_count": null,
   "metadata": {},
   "outputs": [],
   "source": [
    "def largeDigit(n):\n",
    "    large=0\n",
    "    while n!=0:\n",
    "        r=n%10\n",
    "        if large<r:\n",
    "            large=r\n",
    "        n=n//10\n",
    "    return large\n",
    "largeDigit(133246)"
   ]
  },
  {
   "cell_type": "code",
   "execution_count": 10,
   "metadata": {},
   "outputs": [
    {
     "data": {
      "text/plain": [
       "120"
      ]
     },
     "execution_count": 10,
     "metadata": {},
     "output_type": "execute_result"
    }
   ],
   "source": [
    "import math\n",
    "def digitFactSum(n):\n",
    "    s=0\n",
    "    b=n\n",
    "    while n!=0:\n",
    "        r=n%10\n",
    "        s+=math.factorial(r)\n",
    "        n=n//10\n",
    "    if b==s:\n",
    "        return \"yes\"\n",
    "    else:\n",
    "        return \"no\"\n",
    "\n",
    "digitFactSum(123)\n",
    "\n",
    "#factorial \n",
    "def factorial(n):\n",
    "    fact=1\n",
    "    i=1\n",
    "    while i<=n:\n",
    "        fact=fact*i\n",
    "        i=i+1\n",
    "    return fact\n",
    "factorial(5)"
   ]
  },
  {
   "cell_type": "code",
   "execution_count": 12,
   "metadata": {},
   "outputs": [
    {
     "data": {
      "text/plain": [
       "'palindrome'"
      ]
     },
     "execution_count": 12,
     "metadata": {},
     "output_type": "execute_result"
    }
   ],
   "source": [
    "# palindrome\n",
    "def palindrome(n):\n",
    "    rev=0\n",
    "    b=n   \n",
    "    while n!=0:\n",
    "        rev=rev*10+(n%10)\n",
    "        n=n//10\n",
    "    if b==rev:\n",
    "        return \"palindrome\"\n",
    "    else:\n",
    "        return \"not a palindrome\"\n",
    "\n",
    "palindrome(121)    \n",
    "    "
   ]
  },
  {
   "cell_type": "code",
   "execution_count": 2,
   "metadata": {},
   "outputs": [
    {
     "name": "stdout",
     "output_type": "stream",
     "text": [
      "1 2 3 4 6 12 "
     ]
    }
   ],
   "source": [
    "# factors of a given no\n",
    "def factors(n):\n",
    "    for i in range(1,n+1):\n",
    "        if n%i==0:\n",
    "            print(i,end=' ')\n",
    "factors(12)"
   ]
  },
  {
   "cell_type": "code",
   "execution_count": 9,
   "metadata": {},
   "outputs": [
    {
     "data": {
      "text/plain": [
       "'False'"
      ]
     },
     "execution_count": 9,
     "metadata": {},
     "output_type": "execute_result"
    }
   ],
   "source": [
    "# prime no\n",
    "def primeNum(n):\n",
    "    c=0\n",
    "    for i in range(1,n+1):\n",
    "        if n%i==0:\n",
    "            c=c+1\n",
    "    if c==2:\n",
    "        return \"True\"\n",
    "    else:\n",
    "        return \"False\"\n",
    "\n",
    "primeNum(10)"
   ]
  },
  {
   "cell_type": "code",
   "execution_count": 12,
   "metadata": {},
   "outputs": [
    {
     "name": "stdout",
     "output_type": "stream",
     "text": [
      "1 2 5 10 "
     ]
    },
    {
     "data": {
      "text/plain": [
       "4"
      ]
     },
     "execution_count": 12,
     "metadata": {},
     "output_type": "execute_result"
    }
   ],
   "source": [
    "# prime no count b/w range\n",
    "def primeCount(n):\n",
    "    c=0\n",
    "    for i in range(1,n+1):\n",
    "        if n%i==0:\n",
    "            print(i,end=' ')\n",
    "            c=c+1\n",
    "    return c\n",
    "\n",
    "primeCount(10)\n",
    "        \n",
    "        "
   ]
  },
  {
   "cell_type": "code",
   "execution_count": null,
   "metadata": {},
   "outputs": [],
   "source": []
  }
 ],
 "metadata": {
  "kernelspec": {
   "display_name": "Python 3",
   "language": "python",
   "name": "python3"
  },
  "language_info": {
   "codemirror_mode": {
    "name": "ipython",
    "version": 3
   },
   "file_extension": ".py",
   "mimetype": "text/x-python",
   "name": "python",
   "nbconvert_exporter": "python",
   "pygments_lexer": "ipython3",
   "version": "3.7.4"
  }
 },
 "nbformat": 4,
 "nbformat_minor": 2
}
