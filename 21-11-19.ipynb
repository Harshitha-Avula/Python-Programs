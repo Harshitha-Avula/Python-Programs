{
 "cells": [
  {
   "cell_type": "markdown",
   "metadata": {},
   "source": [
    "[link](https://sites.google.com/view/harshi-python1234/home)"
   ]
  },
  {
   "cell_type": "markdown",
   "metadata": {},
   "source": [
    " Date : 21/11/19\n",
    "\n",
    "* To introduce **Jupyter Notebook**\n",
    "* To teach *Markdown* syntax\n",
    "* To introduce ***Python*** basics\n",
    "  * Basic Syntax(Variables,Assignment,Data Types)\n",
    "  * Control Structures\n",
    "    1. Conditional\n",
    "    2. Repetitive\n",
    "    \n",
    "<img src='python logo.png'/>"
   ]
  },
  {
   "cell_type": "markdown",
   "metadata": {},
   "source": [
    "### Python Basics"
   ]
  },
  {
   "cell_type": "code",
   "execution_count": 1,
   "metadata": {},
   "outputs": [
    {
     "name": "stdout",
     "output_type": "stream",
     "text": [
      "Hello World !\n",
      "Hello World ! : HelloWorld !\n"
     ]
    }
   ],
   "source": [
    "print(\"Hello World !\")\n",
    "print(\"Hello\",\"World !\",end=\" : \")\n",
    "print(\"Hello\"+\"World !\")# it will not work properly(join both str's without space)\n",
    "\n"
   ]
  },
  {
   "cell_type": "markdown",
   "metadata": {},
   "source": [
    "Input : 15920,888,666,1234\n",
    "Output : 4,12,6,3"
   ]
  },
  {
   "cell_type": "code",
   "execution_count": null,
   "metadata": {},
   "outputs": [],
   "source": [
    "def display(n):\n",
    "    s=0\n",
    "    while n!=0:\n",
    "        r=n%10\n",
    "        if r==0 or r==6 or r==9:\n",
    "            s=s+2\n",
    "        elif r==8:\n",
    "            s=s+4\n",
    "        elif r==4:\n",
    "            s=s+3\n",
    "        n=n//10\n",
    "    return s\n",
    "x=int(input(\"enter a no:\"))\n",
    "display(x)"
   ]
  },
  {
   "cell_type": "markdown",
   "metadata": {},
   "source": [
    "## input:982746,13682,145 output:<2,9>,<1,8>,<1,5>"
   ]
  },
  {
   "cell_type": "code",
   "execution_count": 4,
   "metadata": {},
   "outputs": [
    {
     "name": "stdout",
     "output_type": "stream",
     "text": [
      "enter a no:145\n",
      "<1,5>\n"
     ]
    }
   ],
   "source": [
    "def display(n):\n",
    "    lst=[]\n",
    "    while n!=0:\n",
    "        r=n%10\n",
    "        lst.append(r)\n",
    "        n=n//10\n",
    "    x=sorted(lst)\n",
    "    print(\"<{},{}>\".format(x[0],x[-1]))\n",
    "a=int(input(\"enter a no:\"))\n",
    "display(a)\n"
   ]
  },
  {
   "cell_type": "markdown",
   "metadata": {},
   "source": [
    "## input:122,21   output:9"
   ]
  },
  {
   "cell_type": "code",
   "execution_count": 9,
   "metadata": {},
   "outputs": [
    {
     "name": "stdout",
     "output_type": "stream",
     "text": [
      "Enter a no:122\n",
      "17\n"
     ]
    }
   ],
   "source": [
    "def display(n):\n",
    "    c=0\n",
    "    while n!=0:\n",
    "        r=n%10\n",
    "        c=c+r**3\n",
    "        n=n//10\n",
    "    print(c)\n",
    "    \n",
    "x=int(input(\"Enter a no:\"))\n",
    "display(x)\n",
    "            \n",
    "        \n"
   ]
  },
  {
   "cell_type": "markdown",
   "metadata": {},
   "source": [
    "## input:ABCD AABB ABC AAABC  output:!@@!!!@@@@\n",
    "                                                        !@!!@@\n",
    "                                                        !@@!!!\n",
    "                                                        !@!@@!!!\n",
    "                                                        \n",
    "                                                            \n"
   ]
  },
  {
   "cell_type": "code",
   "execution_count": null,
   "metadata": {},
   "outputs": [],
   "source": []
  }
 ],
 "metadata": {
  "kernelspec": {
   "display_name": "Python 3",
   "language": "python",
   "name": "python3"
  },
  "language_info": {
   "codemirror_mode": {
    "name": "ipython",
    "version": 3
   },
   "file_extension": ".py",
   "mimetype": "text/x-python",
   "name": "python",
   "nbconvert_exporter": "python",
   "pygments_lexer": "ipython3",
   "version": "3.7.4"
  }
 },
 "nbformat": 4,
 "nbformat_minor": 2
}
