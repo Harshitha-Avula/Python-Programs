{
 "cells": [
  {
   "cell_type": "markdown",
   "metadata": {},
   "source": [
    "### Tuples in Python\n",
    "- Tuples are similar to list\n",
    "- Used to read the object data\n",
    "- List is Mutable and Tuple are immutable\n",
    "- List object can be used for insert,update,delete\n",
    "- Tuple object can only support for reading\n",
    "- Tuple can be defined as with in paraenthsis()"
   ]
  },
  {
   "cell_type": "code",
   "execution_count": 2,
   "metadata": {},
   "outputs": [
    {
     "name": "stdout",
     "output_type": "stream",
     "text": [
      "(1, 2, 3, 4, 5)\n",
      "<class 'tuple'>\n"
     ]
    }
   ],
   "source": [
    "t1=(1,2,3,4,5)\n",
    "print(t1)\n",
    "print(type(t1))"
   ]
  },
  {
   "cell_type": "code",
   "execution_count": 3,
   "metadata": {},
   "outputs": [
    {
     "name": "stdout",
     "output_type": "stream",
     "text": [
      "(1, 2, 3)\n"
     ]
    }
   ],
   "source": [
    "print(t1[0:3])"
   ]
  },
  {
   "cell_type": "code",
   "execution_count": 4,
   "metadata": {},
   "outputs": [
    {
     "name": "stdout",
     "output_type": "stream",
     "text": [
      "(1, 2, 3, 4)\n"
     ]
    }
   ],
   "source": [
    "print(t1[0:-1])"
   ]
  },
  {
   "cell_type": "code",
   "execution_count": 7,
   "metadata": {},
   "outputs": [
    {
     "name": "stdout",
     "output_type": "stream",
     "text": [
      "1 2 3 4 5 "
     ]
    }
   ],
   "source": [
    "for i in range(len(t1)):\n",
    "    print(t1[i],end=' ')"
   ]
  },
  {
   "cell_type": "markdown",
   "metadata": {},
   "source": [
    "### Dictionaries in Python\n",
    "- General purpose data structure in python\n",
    "- Dict object basically consists of key and value\n",
    "- Dict object consists of unique key\n",
    "- Dict object can be enclosed in curly braces - {}\n",
    "- One pair key and value is separated by comma(,)\n",
    "- Key and value is separated by colon symbol:"
   ]
  },
  {
   "cell_type": "code",
   "execution_count": 11,
   "metadata": {},
   "outputs": [],
   "source": [
    "d1={\"Name\":\"Anil\",\"EmailID\":\"anil@dhyanahita.org\",\"phone\":\"9581372055\"}"
   ]
  },
  {
   "cell_type": "code",
   "execution_count": 13,
   "metadata": {},
   "outputs": [
    {
     "data": {
      "text/plain": [
       "['Name', 'EmailID', 'phone']"
      ]
     },
     "execution_count": 13,
     "metadata": {},
     "output_type": "execute_result"
    }
   ],
   "source": [
    "li =[]\n",
    "list(d1.keys())"
   ]
  },
  {
   "cell_type": "code",
   "execution_count": 14,
   "metadata": {},
   "outputs": [
    {
     "data": {
      "text/plain": [
       "['Name', 'EmailID', 'phone']"
      ]
     },
     "execution_count": 14,
     "metadata": {},
     "output_type": "execute_result"
    }
   ],
   "source": [
    "li = []\n",
    "for i in d1.keys():\n",
    "    li.append(i)\n",
    "li"
   ]
  },
  {
   "cell_type": "code",
   "execution_count": 16,
   "metadata": {},
   "outputs": [
    {
     "data": {
      "text/plain": [
       "['Anil', 'anil@dhyanahita.org', '9581372055']"
      ]
     },
     "execution_count": 16,
     "metadata": {},
     "output_type": "execute_result"
    }
   ],
   "source": [
    "list(d1.values())"
   ]
  },
  {
   "cell_type": "code",
   "execution_count": 20,
   "metadata": {},
   "outputs": [
    {
     "name": "stdout",
     "output_type": "stream",
     "text": [
      "{'Name': 'Harshitha', 'EmailID': 'anil@dhyanahita.org', 'phone': '9581372055', 'name': 'Harshitha'}\n"
     ]
    }
   ],
   "source": [
    "d1[\"Name\"]=\"Harshitha\"\n",
    "print(d1)"
   ]
  },
  {
   "cell_type": "code",
   "execution_count": 28,
   "metadata": {},
   "outputs": [],
   "source": [
    "del d1[\"phone\"]"
   ]
  },
  {
   "cell_type": "code",
   "execution_count": 29,
   "metadata": {},
   "outputs": [
    {
     "name": "stdout",
     "output_type": "stream",
     "text": [
      "{'Name': 'Harshitha', 'EmailID': 'anil@dhyanahita.org'}\n"
     ]
    }
   ],
   "source": [
    "print(d1)"
   ]
  },
  {
   "cell_type": "code",
   "execution_count": 25,
   "metadata": {},
   "outputs": [
    {
     "data": {
      "text/plain": [
       "True"
      ]
     },
     "execution_count": 25,
     "metadata": {},
     "output_type": "execute_result"
    }
   ],
   "source": [
    "\"Name\" in li"
   ]
  },
  {
   "cell_type": "code",
   "execution_count": 31,
   "metadata": {},
   "outputs": [
    {
     "data": {
      "text/plain": [
       "True"
      ]
     },
     "execution_count": 31,
     "metadata": {},
     "output_type": "execute_result"
    }
   ],
   "source": [
    "\"harshi\" not in li"
   ]
  },
  {
   "cell_type": "markdown",
   "metadata": {},
   "source": [
    "### Contact Application\n",
    "- **List,Tuple,Dict**\n",
    "- **Add new contact details** \n",
    "- **Search Contact**"
   ]
  },
  {
   "cell_type": "code",
   "execution_count": 34,
   "metadata": {},
   "outputs": [
    {
     "name": "stdout",
     "output_type": "stream",
     "text": [
      "Sai Inserted Successfully\n",
      "Naseer Inserted Successfully\n",
      "Sai Already Exists\n"
     ]
    }
   ],
   "source": [
    "contacts={}\n",
    "def contactDetails(name,phone):\n",
    "    if name not in contacts:\n",
    "        contacts[name] = phone\n",
    "        print(name,\"Inserted Successfully\")\n",
    "    else:\n",
    "        print(name,\"Already Exists\")\n",
    "    return\n",
    "contactDetails(\"Sai\",9581372055)\n",
    "contactDetails(\"Naseer\",9346472055)\n",
    "contactDetails(\"Sai\",9182527416)"
   ]
  },
  {
   "cell_type": "code",
   "execution_count": 35,
   "metadata": {},
   "outputs": [
    {
     "data": {
      "text/plain": [
       "{'Sai': 9581372055, 'Naseer': 9346472055}"
      ]
     },
     "execution_count": 35,
     "metadata": {},
     "output_type": "execute_result"
    }
   ],
   "source": [
    "contacts\n"
   ]
  },
  {
   "cell_type": "code",
   "execution_count": 39,
   "metadata": {},
   "outputs": [
    {
     "name": "stdout",
     "output_type": "stream",
     "text": [
      "('Sai', ':', 9581372055)\n",
      "contact not present\n"
     ]
    }
   ],
   "source": [
    "def searchContact(name):\n",
    "    if name in contacts:\n",
    "        return (name,\":\",contacts[name])\n",
    "    return \"contact not present\"\n",
    "print(searchContact(\"Sai\"))\n",
    "print(searchContact(\"Harsha\"))"
   ]
  },
  {
   "cell_type": "code",
   "execution_count": 41,
   "metadata": {},
   "outputs": [
    {
     "name": "stdout",
     "output_type": "stream",
     "text": [
      "Naseer updated successfully\n",
      "rohini not exists\n"
     ]
    }
   ],
   "source": [
    "def editContact(name,phone):\n",
    "    if name in contacts:\n",
    "        contacts[name]=phone\n",
    "        print(name,\"updated successfully\")\n",
    "    else:\n",
    "        print(name,\"not exists\")\n",
    "    return\n",
    "editContact(\"Naseer\",8768989787)\n",
    "editContact(\"rohini\",6303621699)"
   ]
  },
  {
   "cell_type": "code",
   "execution_count": 44,
   "metadata": {},
   "outputs": [
    {
     "name": "stdout",
     "output_type": "stream",
     "text": [
      "Naseer deleted successfully\n",
      "harshi not exists\n"
     ]
    }
   ],
   "source": [
    "def deleteContact(name):\n",
    "    if name in contacts:\n",
    "        del contacts[name]\n",
    "        print(name,\"deleted successfully\")\n",
    "    else:\n",
    "        print(name,\"not exists\")\n",
    "    return\n",
    "deleteContact(\"Naseer\")\n",
    "deleteContact(\"harshi\")"
   ]
  },
  {
   "cell_type": "code",
   "execution_count": 45,
   "metadata": {},
   "outputs": [
    {
     "data": {
      "text/plain": [
       "{'Sai': 9581372055}"
      ]
     },
     "execution_count": 45,
     "metadata": {},
     "output_type": "execute_result"
    }
   ],
   "source": [
    "contacts"
   ]
  },
  {
   "cell_type": "markdown",
   "metadata": {},
   "source": [
    "- sort the contacts list name-phone"
   ]
  },
  {
   "cell_type": "code",
   "execution_count": 63,
   "metadata": {},
   "outputs": [
    {
     "data": {
      "text/plain": [
       "['chandu',\n",
       " 'hari',\n",
       " 'harshi',\n",
       " 'kiranmai',\n",
       " 'kishore',\n",
       " 'naseer',\n",
       " 'rajeevi',\n",
       " 'rohini',\n",
       " 'sai',\n",
       " 'vijaya']"
      ]
     },
     "execution_count": 63,
     "metadata": {},
     "output_type": "execute_result"
    }
   ],
   "source": [
    "contacts={}\n",
    "li=[]\n",
    "def addContacts(name,phone):\n",
    "    if name not in contacts:\n",
    "        contacts[name]=phone\n",
    "        li=list(contacts)\n",
    "        li.sort() \n",
    "        return li\n",
    "    else:\n",
    "        print(name,\"already exists\")\n",
    "    return\n",
    "addContacts(\"harshi\",9581372055)\n",
    "addContacts(\"rohini\",9767687887)\n",
    "addContacts(\"rajeevi\",9581676877)\n",
    "addContacts(\"kiranmai\",9586542887)\n",
    "addContacts(\"chandu\",9567276767)\n",
    "addContacts(\"naseer\",9588727287)\n",
    "addContacts(\"sai\",9573227878)\n",
    "addContacts(\"hari\",9346472055)\n",
    "addContacts(\"kishore\",9581372066)\n",
    "addContacts(\"vijaya\",9581372045)"
   ]
  },
  {
   "cell_type": "code",
   "execution_count": 60,
   "metadata": {},
   "outputs": [
    {
     "name": "stdout",
     "output_type": "stream",
     "text": [
      "['chandu', 'hari', 'harshi', 'kiranmai', 'kishore', 'naseer', 'rajeevi', 'rohini', 'sai', 'vijaya'] "
     ]
    }
   ],
   "source": [
    "d1={}\n",
    "li=[]\n",
    "li=list(contacts)\n",
    "d1=dict(contacts)\n",
    "li=list(d1.keys())\n",
    "li.sort()\n",
    "print(li,end=' ')"
   ]
  },
  {
   "cell_type": "code",
   "execution_count": null,
   "metadata": {},
   "outputs": [],
   "source": []
  }
 ],
 "metadata": {
  "kernelspec": {
   "display_name": "Python 3",
   "language": "python",
   "name": "python3"
  },
  "language_info": {
   "codemirror_mode": {
    "name": "ipython",
    "version": 3
   },
   "file_extension": ".py",
   "mimetype": "text/x-python",
   "name": "python",
   "nbconvert_exporter": "python",
   "pygments_lexer": "ipython3",
   "version": "3.7.4"
  }
 },
 "nbformat": 4,
 "nbformat_minor": 2
}
