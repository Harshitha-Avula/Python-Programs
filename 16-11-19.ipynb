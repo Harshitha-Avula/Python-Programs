{
 "cells": [
  {
   "cell_type": "code",
   "execution_count": 1,
   "metadata": {},
   "outputs": [
    {
     "name": "stdout",
     "output_type": "stream",
     "text": [
      "even sum: 32\n",
      "odd sum: 18\n"
     ]
    }
   ],
   "source": [
    "# even and odd sum\n",
    "def display(lst):\n",
    "    s=0\n",
    "    sum1=0\n",
    "    for i in lst:\n",
    "        if i%2==0:\n",
    "            s=s+i    \n",
    "        elif i%2!=0:\n",
    "            sum1=sum1+i\n",
    "    print(\"even sum:\",s)\n",
    "    print(\"odd sum:\",sum1)\n",
    "            \n",
    "lst=[1,5,2,4,8,18,3,9]            \n",
    "display(lst)\n",
    "\n",
    "            "
   ]
  },
  {
   "cell_type": "code",
   "execution_count": 2,
   "metadata": {},
   "outputs": [
    {
     "name": "stdout",
     "output_type": "stream",
     "text": [
      "1\n",
      "2\n",
      "3\n",
      "4\n",
      "5\n",
      "7\n"
     ]
    }
   ],
   "source": [
    "tpl=(1,2,3,4,5,7)\n",
    "for i in tpl:\n",
    "    print(i)"
   ]
  },
  {
   "cell_type": "code",
   "execution_count": 10,
   "metadata": {},
   "outputs": [
    {
     "data": {
      "text/plain": [
       "1"
      ]
     },
     "execution_count": 10,
     "metadata": {},
     "output_type": "execute_result"
    }
   ],
   "source": [
    "lst=[1,2,3,4,5,6,7,8,9]\n",
    "lst1=lst.__iter__()\n",
    "next(lst1)\n",
    "    "
   ]
  },
  {
   "cell_type": "code",
   "execution_count": 11,
   "metadata": {},
   "outputs": [
    {
     "name": "stdout",
     "output_type": "stream",
     "text": [
      "0 1 1 2 3 5 8 13 21 "
     ]
    }
   ],
   "source": [
    "# fibnocci series\n",
    "x=0\n",
    "x1=1\n",
    "print(x,x1,end=\" \")\n",
    "for i in range(3,10):\n",
    "    next=x+x1\n",
    "    print(next,end=\" \")\n",
    "    x=x1\n",
    "    x1=next"
   ]
  },
  {
   "cell_type": "code",
   "execution_count": 16,
   "metadata": {},
   "outputs": [
    {
     "name": "stdout",
     "output_type": "stream",
     "text": [
      "enter any no:145\n",
      "not amstrong no\n"
     ]
    }
   ],
   "source": [
    "# amstrong or not\n",
    "n=int(input(\"enter any no:\"))\n",
    "sum=0\n",
    "temp=n\n",
    "while temp>0:\n",
    "    digit=temp%10\n",
    "    sum+=digit**3\n",
    "    temp//=10\n",
    "    \n",
    "if n==sum:\n",
    "    print(\"amstrong no\")\n",
    "else:\n",
    "    print(\"not amstrong no\")\n",
    "    "
   ]
  },
  {
   "cell_type": "code",
   "execution_count": 19,
   "metadata": {},
   "outputs": [
    {
     "name": "stdout",
     "output_type": "stream",
     "text": [
      "enter any no:113\n",
      "not a palindrome\n"
     ]
    }
   ],
   "source": [
    "# palindrome or not\n",
    "n=int(input(\"enter any no:\"))\n",
    "temp=n\n",
    "rev=0\n",
    "while n>0:\n",
    "    rem=n%10\n",
    "    rev=(rev*10)+rem\n",
    "    n=n//10\n",
    "if temp==rev:\n",
    "    print(\"palindrome\")\n",
    "else:\n",
    "    print(\"not a palindrome\")"
   ]
  },
  {
   "cell_type": "code",
   "execution_count": 22,
   "metadata": {},
   "outputs": [
    {
     "name": "stdout",
     "output_type": "stream",
     "text": [
      "enter any no:10\n",
      "285\n"
     ]
    }
   ],
   "source": [
    "#program to find sum of squares of natural numbers\n",
    "\n",
    "n=int(input(\"enter any no:\"))\n",
    "c=0\n",
    "square=0\n",
    "for i in range(0,n+1):\n",
    "    square=i*i\n",
    "    c=c+square\n",
    "print(c)"
   ]
  },
  {
   "cell_type": "code",
   "execution_count": 34,
   "metadata": {},
   "outputs": [
    {
     "name": "stdout",
     "output_type": "stream",
     "text": [
      "enter any no:496\n",
      "perfect no\n"
     ]
    }
   ],
   "source": [
    "# program to find the perfect number\n",
    "n=int(input(\"enter any no:\"))\n",
    "s=0\n",
    "for i in range(1,n):\n",
    "    if n%i==0:\n",
    "        s=s+i\n",
    "if n==s:\n",
    "    print(\"perfect no\")\n",
    "else:\n",
    "    print(\"not a perfect no\")\n",
    "    \n",
    "    \n",
    "        \n"
   ]
  },
  {
   "cell_type": "code",
   "execution_count": 4,
   "metadata": {},
   "outputs": [
    {
     "name": "stdout",
     "output_type": "stream",
     "text": [
      "enter any string:good morning\n",
      "morning\n"
     ]
    }
   ],
   "source": [
    "#input:good morning,good time\n",
    "#output:morning(highest length word)\n",
    "    \n",
    "str=input(\"enter any string:\")\n",
    "x=str.split()\n",
    "a=sorted(x,key=len)\n",
    "print(a[-1])"
   ]
  },
  {
   "cell_type": "code",
   "execution_count": null,
   "metadata": {},
   "outputs": [],
   "source": []
  }
 ],
 "metadata": {
  "kernelspec": {
   "display_name": "Python 3",
   "language": "python",
   "name": "python3"
  },
  "language_info": {
   "codemirror_mode": {
    "name": "ipython",
    "version": 3
   },
   "file_extension": ".py",
   "mimetype": "text/x-python",
   "name": "python",
   "nbconvert_exporter": "python",
   "pygments_lexer": "ipython3",
   "version": "3.7.4"
  }
 },
 "nbformat": 4,
 "nbformat_minor": 2
}
