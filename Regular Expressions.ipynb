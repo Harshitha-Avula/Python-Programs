{
 "cells": [
  {
   "cell_type": "markdown",
   "metadata": {},
   "source": [
    "## Regular Expression\n",
    "import re\n",
    "-> Pattern matching\n",
    "-> Digits,Ala *Lower and Upper case*\n",
    "-> To Start any Re --^\n",
    "-> To end any re ---$\n",
    "-> To match the digit -- [0-9]\n",
    "-> Repitations---{ }"
   ]
  },
  {
   "cell_type": "code",
   "execution_count": 9,
   "metadata": {},
   "outputs": [
    {
     "name": "stdout",
     "output_type": "stream",
     "text": [
      "True\n",
      "False\n"
     ]
    }
   ],
   "source": [
    "# the two digi no\n",
    "import re\n",
    "def display(n):\n",
    "    pattern=\"^[0-9]{4}$\" # how many digits {}\n",
    "    n=str(n)\n",
    "    if re.match(pattern,n):\n",
    "        return True\n",
    "    return False\n",
    "print(display(1234))\n",
    "print(display(123))\n"
   ]
  },
  {
   "cell_type": "code",
   "execution_count": 11,
   "metadata": {},
   "outputs": [],
   "source": [
    "# username matching\n",
    "# Lower and Upper case\n",
    "# [A-Z]\n",
    "# [0-9]\n",
    "# Length of username -- min 6\n",
    "# max-15\n"
   ]
  },
  {
   "cell_type": "code",
   "execution_count": 18,
   "metadata": {},
   "outputs": [
    {
     "name": "stdout",
     "output_type": "stream",
     "text": [
      "True\n",
      "True\n"
     ]
    }
   ],
   "source": [
    "def display(n):\n",
    "    pattern=\"^[A-Z a-z 0-9 _]{6,15}$\"\n",
    "    if re.match(pattern,n):# match the pattern and given username\n",
    "        return True\n",
    "    return False\n",
    "print(display(\"Harshi_1234\"))\n",
    "print(display(\"Radhika_112325\"))"
   ]
  },
  {
   "cell_type": "code",
   "execution_count": 53,
   "metadata": {},
   "outputs": [
    {
     "data": {
      "text/plain": [
       "True"
      ]
     },
     "execution_count": 53,
     "metadata": {},
     "output_type": "execute_result"
    }
   ],
   "source": [
    "# regular expression to validate the roll no:\n",
    "def display(n):\n",
    "    pattern=\"^[1][5][N][D][1][A a][0][1-9][0-9][0-9]$\"\n",
    "    if re.match(pattern,n):\n",
    "        return True\n",
    "    return False\n",
    "display(\"15ND1A0403\")"
   ]
  },
  {
   "cell_type": "code",
   "execution_count": null,
   "metadata": {},
   "outputs": [],
   "source": [
    "# password validation\n",
    "\"^[A-Z a-z 0-9 @ ! *]$\""
   ]
  },
  {
   "cell_type": "code",
   "execution_count": 47,
   "metadata": {},
   "outputs": [],
   "source": [
    "# Indian mobile no\n",
    "# 10 digit no\n",
    "# [6-9]--1digit\n",
    "# [0-9] --9 digits"
   ]
  },
  {
   "cell_type": "code",
   "execution_count": 62,
   "metadata": {},
   "outputs": [
    {
     "name": "stdout",
     "output_type": "stream",
     "text": [
      "True\n",
      "False\n"
     ]
    }
   ],
   "source": [
    "# validation of indian mobile no\n",
    "def display(n):\n",
    "    pattern=\"^[6-9][0-9]{9}$|^[0][6-9][0-9]{9}$|^[+][9][1][6-9][0-9]{9}$\"\n",
    "    n=str(n)\n",
    "    if re.match(pattern,n):\n",
    "        return True\n",
    "    return False\n",
    "print(display(\"9581372055\"))\n",
    "print(display(\"2897823787\"))"
   ]
  },
  {
   "cell_type": "code",
   "execution_count": 58,
   "metadata": {},
   "outputs": [
    {
     "name": "stdout",
     "output_type": "stream",
     "text": [
      "True\n",
      "False\n"
     ]
    }
   ],
   "source": [
    "# validation for 09988667711\n",
    "def display(n):\n",
    "    pattern=\"^[0][6-9][0-9]{9}$\"\n",
    "    n=str(n)\n",
    "    if re.match(pattern,n):\n",
    "        return True\n",
    "    return False\n",
    "print(display(\"09581372055\"))\n",
    "print(display(\"2897823787\"))\n"
   ]
  },
  {
   "cell_type": "code",
   "execution_count": 61,
   "metadata": {},
   "outputs": [
    {
     "name": "stdout",
     "output_type": "stream",
     "text": [
      "True\n",
      "False\n"
     ]
    }
   ],
   "source": [
    "# validation for +919581372055\n",
    "def display(n):\n",
    "    pattern=\"^[+][9][1][6-9][0-9]{9}$\"\n",
    "    n=str(n)\n",
    "    if re.match(pattern,n):\n",
    "        return True\n",
    "    return False\n",
    "print(display(\"+919581372055\"))\n",
    "print(display(\"2897823787\"))\n"
   ]
  },
  {
   "cell_type": "code",
   "execution_count": 64,
   "metadata": {},
   "outputs": [],
   "source": [
    "# To validate the EmailID\n",
    "# username @ Domainname . Extension"
   ]
  },
  {
   "cell_type": "code",
   "execution_count": 67,
   "metadata": {},
   "outputs": [
    {
     "name": "stdout",
     "output_type": "stream",
     "text": [
      "True\n"
     ]
    }
   ],
   "source": [
    "# validation of email\n",
    "def display(n):\n",
    "    pattern=\"^[A-Z a-z][a-z A-z 0-9 _ .]{5,20}[@][A-Z a-z]{3,10}[.][A-Z a-z]{2,3}$\"\n",
    "    n=str(n)\n",
    "    if re.match(pattern,n):\n",
    "        return True\n",
    "    return False\n",
    "print(display(\"harshithaavula1234@gmail.com\"))\n",
    "\n"
   ]
  },
  {
   "cell_type": "code",
   "execution_count": null,
   "metadata": {},
   "outputs": [],
   "source": []
  }
 ],
 "metadata": {
  "kernelspec": {
   "display_name": "Python 3",
   "language": "python",
   "name": "python3"
  },
  "language_info": {
   "codemirror_mode": {
    "name": "ipython",
    "version": 3
   },
   "file_extension": ".py",
   "mimetype": "text/x-python",
   "name": "python",
   "nbconvert_exporter": "python",
   "pygments_lexer": "ipython3",
   "version": "3.7.4"
  }
 },
 "nbformat": 4,
 "nbformat_minor": 2
}
