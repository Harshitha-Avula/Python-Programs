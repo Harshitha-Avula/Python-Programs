{
 "cells": [
  {
   "cell_type": "markdown",
   "metadata": {},
   "source": [
    "# Read a number as input and Print the Output as Factors of the given number"
   ]
  },
  {
   "cell_type": "code",
   "execution_count": null,
   "metadata": {},
   "outputs": [],
   "source": [
    "n=int(input(\"enter any no:\"))\n",
    "for i in range(1,n+1):\n",
    "    if n%i==0:\n",
    "        print(i)\n",
    "    \n",
    "    "
   ]
  },
  {
   "cell_type": "markdown",
   "metadata": {},
   "source": [
    "# .The program must accept an integer N as the input. Need to print the largest digit     from the given number"
   ]
  },
  {
   "cell_type": "code",
   "execution_count": null,
   "metadata": {},
   "outputs": [],
   "source": [
    "def large():\n",
    "    n=input(\"enter any no:\")\n",
    "    x=list(n)\n",
    "    x.sort()\n",
    "    print(x[-1])\n",
    "large()"
   ]
  },
  {
   "cell_type": "markdown",
   "metadata": {},
   "source": [
    "# Write a user-defined function to find factorial of a number in all the possible ways.\n"
   ]
  },
  {
   "cell_type": "code",
   "execution_count": 2,
   "metadata": {},
   "outputs": [
    {
     "name": "stdout",
     "output_type": "stream",
     "text": [
      "enter any no:7\n",
      "5040\n"
     ]
    }
   ],
   "source": [
    "def display():\n",
    "    n=int(input(\"enter any no:\"))\n",
    "    fact=1\n",
    "    i=1\n",
    "    while i<=n:\n",
    "        fact=fact*i\n",
    "        i=i+1\n",
    "    print(fact)\n",
    "display()"
   ]
  },
  {
   "cell_type": "code",
   "execution_count": 1,
   "metadata": {},
   "outputs": [
    {
     "name": "stdout",
     "output_type": "stream",
     "text": [
      "enter any no:12347875\n",
      "8\n"
     ]
    }
   ],
   "source": [
    "# .The program must accept an integer N as the input. Need to print the largest digit     from the given number\n",
    "n1=int(input(\"enter any no:\"))\n",
    "n2=0\n",
    "while n1>0:\n",
    "    rem=n1%10\n",
    "    if n2<rem:\n",
    "        n2=rem\n",
    "    n1=n1//10\n",
    "print(n2) "
   ]
  },
  {
   "cell_type": "markdown",
   "metadata": {},
   "source": [
    "# .The program must accept an integer N as the input. Need to print the output in the following manner.\n",
    "  Example Input/Output 1:\n",
    "    Input1:145\n",
    "    Output:yes\n",
    "    Input2:123\n",
    "    output:no"
   ]
  },
  {
   "cell_type": "code",
   "execution_count": 1,
   "metadata": {},
   "outputs": [
    {
     "name": "stdout",
     "output_type": "stream",
     "text": [
      "enter number145\n",
      "yes\n"
     ]
    }
   ],
   "source": [
    "import math\n",
    "num=int(input('enter number'))\n",
    "temp=num\n",
    "n=0\n",
    "while num>0:\n",
    "    rem=num%10\n",
    "    x=math.factorial(rem)\n",
    "    n=n+x\n",
    "    num=num//10\n",
    "if temp==n:\n",
    "    print('yes')\n",
    "else:\n",
    "    print('no')\n"
   ]
  },
  {
   "cell_type": "markdown",
   "metadata": {},
   "source": [
    "# The program must accept an integer N as the input.Need to print output in the following manner\n",
    "add even nos"
   ]
  },
  {
   "cell_type": "code",
   "execution_count": 1,
   "metadata": {},
   "outputs": [
    {
     "name": "stdout",
     "output_type": "stream",
     "text": [
      "enter a number123\n",
      "2\n"
     ]
    }
   ],
   "source": [
    "num=int(input('enter a number'))\n",
    "n2=0\n",
    "while num>0:\n",
    "    rem=num%10\n",
    "    if rem%2==0:\n",
    "        n2=n2+rem\n",
    "    num=num//10\n",
    "print(n2)"
   ]
  },
  {
   "cell_type": "code",
   "execution_count": null,
   "metadata": {},
   "outputs": [],
   "source": []
  }
 ],
 "metadata": {
  "kernelspec": {
   "display_name": "Python 3",
   "language": "python",
   "name": "python3"
  },
  "language_info": {
   "codemirror_mode": {
    "name": "ipython",
    "version": 3
   },
   "file_extension": ".py",
   "mimetype": "text/x-python",
   "name": "python",
   "nbconvert_exporter": "python",
   "pygments_lexer": "ipython3",
   "version": "3.7.4"
  }
 },
 "nbformat": 4,
 "nbformat_minor": 2
}
