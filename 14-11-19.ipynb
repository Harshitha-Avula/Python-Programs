{
 "cells": [
  {
   "cell_type": "markdown",
   "metadata": {},
   "source": [
    "# Read the input as string and Output will followed\n"
   ]
  },
  {
   "cell_type": "code",
   "execution_count": 1,
   "metadata": {},
   "outputs": [
    {
     "name": "stdout",
     "output_type": "stream",
     "text": [
      "puboif\n"
     ]
    }
   ],
   "source": [
    "str=\"orange\"\n",
    "str1=\"\"\n",
    "v=('a','e','i','o','u')\n",
    "for i in str:\n",
    "    if i in v:\n",
    "        str1=str1+(chr(ord(i)+1))\n",
    "    else:\n",
    "        if ord(i)>=98 and ord(i)<=100:\n",
    "            str1=str1+'e'\n",
    "        elif ord(i)>=102 and ord(i)<=104:\n",
    "            str1=str1+'i'\n",
    "        elif ord(i)>=106 and ord(i)<=110:\n",
    "            str1=str1+'o'\n",
    "        elif ord(i)>=112 and ord(i)<=116:\n",
    "            str1=str1+'u'\n",
    "            \n",
    "print(str1)"
   ]
  },
  {
   "cell_type": "markdown",
   "metadata": {},
   "source": [
    "# Read the input as string and Output will be alternate words in lower case"
   ]
  },
  {
   "cell_type": "code",
   "execution_count": 10,
   "metadata": {},
   "outputs": [
    {
     "name": "stdout",
     "output_type": "stream",
     "text": [
      "enter any input hello iam harshitha\n"
     ]
    },
    {
     "data": {
      "text/plain": [
       "['hello', 'harshitha']"
      ]
     },
     "execution_count": 10,
     "metadata": {},
     "output_type": "execute_result"
    }
   ],
   "source": [
    "str=input(\"enter any input:\")\n",
    "x=str.split()\n",
    "x[::2]\n",
    "\n"
   ]
  },
  {
   "cell_type": "code",
   "execution_count": null,
   "metadata": {},
   "outputs": [],
   "source": []
  },
  {
   "cell_type": "markdown",
   "metadata": {},
   "source": [
    "#Read the input as string and Print the Output as Only even digit sum\n",
    "#Example #1:\n",
    "#Input : Applc18iation89\n",
    "#Output : 16 (8+8)\n",
    "n=input(\"enter the sting:\")\n",
    "x=\"ABCDEFGHIJKLMNOPQRSTUVWXYZabcdefghijklmnoqrstuvwxyz\"\n",
    "sum=0\n",
    "digit=[]\n",
    "for i in n:\n",
    "    if i in x:\n",
    "        pass\n",
    "    else:\n",
    "        y=int(i)\n",
    "        if y%2==0:\n",
    "            sum=sum+y\n",
    "            digit.append(str(y))                  \n",
    "z=\"+\".join(digit)\n",
    "print(sum,\"(\",z,\")\")\n",
    "\n"
   ]
  },
  {
   "cell_type": "markdown",
   "metadata": {},
   "source": [
    "# Accept name as input and search for that name in the master list if the name is available, print yes  or print no"
   ]
  },
  {
   "cell_type": "code",
   "execution_count": 17,
   "metadata": {},
   "outputs": [
    {
     "name": "stdout",
     "output_type": "stream",
     "text": [
      "enter the string:sravani\n",
      "no\n"
     ]
    }
   ],
   "source": [
    "lst=['rohini','harshi','chandu','kishore','bhargavi']\n",
    "x=input(\"enter the string:\")\n",
    "if x in lst:\n",
    "    print('yes')\n",
    "else:\n",
    "    print('no')\n",
    "        "
   ]
  },
  {
   "cell_type": "markdown",
   "metadata": {},
   "source": [
    "#  Print the count of the students whose age is >20\n"
   ]
  },
  {
   "cell_type": "code",
   "execution_count": 26,
   "metadata": {},
   "outputs": [
    {
     "name": "stdout",
     "output_type": "stream",
     "text": [
      "5\n"
     ]
    }
   ],
   "source": [
    "lst=[20,12,34,53,25,34,33,10,19,18]\n",
    "count=0\n",
    "for i in lst:\n",
    "    if i>20:\n",
    "        count=count+1\n",
    "    else:\n",
    "        pass\n",
    "print(count)\n",
    "    "
   ]
  },
  {
   "cell_type": "markdown",
   "metadata": {},
   "source": [
    "# Read the Input as number and print the output as true or false. If the input number is prime then        print true otherwise print fasle\n",
    "    "
   ]
  },
  {
   "cell_type": "code",
   "execution_count": 22,
   "metadata": {},
   "outputs": [
    {
     "name": "stdout",
     "output_type": "stream",
     "text": [
      "enter any no:11\n",
      "true\n"
     ]
    }
   ],
   "source": [
    "def prime():\n",
    "    x=int(input(\"enter any no:\"))\n",
    "    for i in range(2,x):\n",
    "        if x%i==0:\n",
    "            print(\"false\")\n",
    "            break\n",
    "    else:\n",
    "        print(\"true\")\n",
    "prime()"
   ]
  },
  {
   "cell_type": "markdown",
   "metadata": {},
   "source": [
    "#  Read the input as number N and print the output as prime number count between 1 to N"
   ]
  },
  {
   "cell_type": "code",
   "execution_count": 1,
   "metadata": {},
   "outputs": [
    {
     "name": "stdout",
     "output_type": "stream",
     "text": [
      "enter any no:5\n",
      "0\n",
      "1\n",
      "2\n",
      "count= 3\n"
     ]
    }
   ],
   "source": [
    "n=int(input(\"enter any no:\"))\n",
    "c=0\n",
    "for i in range(1,n+1):\n",
    "    if i>1:\n",
    "        for j in range(2,i):\n",
    "            if i%j==0:\n",
    "                break\n",
    "        else:\n",
    "            print(c)\n",
    "            c+=1\n",
    "print(\"count=\",c)\n",
    "            "
   ]
  },
  {
   "cell_type": "code",
   "execution_count": null,
   "metadata": {},
   "outputs": [],
   "source": []
  },
  {
   "cell_type": "code",
   "execution_count": null,
   "metadata": {},
   "outputs": [],
   "source": []
  }
 ],
 "metadata": {
  "kernelspec": {
   "display_name": "Python 3",
   "language": "python",
   "name": "python3"
  },
  "language_info": {
   "codemirror_mode": {
    "name": "ipython",
    "version": 3
   },
   "file_extension": ".py",
   "mimetype": "text/x-python",
   "name": "python",
   "nbconvert_exporter": "python",
   "pygments_lexer": "ipython3",
   "version": "3.7.4"
  }
 },
 "nbformat": 4,
 "nbformat_minor": 2
}
