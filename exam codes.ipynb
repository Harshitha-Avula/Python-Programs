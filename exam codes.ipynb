{
 "cells": [
  {
   "cell_type": "code",
   "execution_count": 1,
   "metadata": {},
   "outputs": [
    {
     "name": "stdout",
     "output_type": "stream",
     "text": [
      "enter a string:ABchdHGbghf\n",
      "abCHDhgBGHF\n"
     ]
    }
   ],
   "source": [
    "a=input(\"enter a string:\")\n",
    "b=a.swapcase()\n",
    "print(b)"
   ]
  },
  {
   "cell_type": "code",
   "execution_count": 1,
   "metadata": {},
   "outputs": [
    {
     "name": "stdout",
     "output_type": "stream",
     "text": [
      "enter a string:AbcDefGhiJ\n",
      " aBCdEFgHIj\n"
     ]
    }
   ],
   "source": [
    "a=input(\"enter a string:\")\n",
    "b=\" \"\n",
    "for i in a:\n",
    "    if i.isupper():\n",
    "        b=b+i.lower()\n",
    "    else:\n",
    "        b=b+i.upper()\n",
    "print(b)"
   ]
  },
  {
   "cell_type": "code",
   "execution_count": 8,
   "metadata": {},
   "outputs": [
    {
     "name": "stdout",
     "output_type": "stream",
     "text": [
      "5 15 20 34 62 65 67 10\n"
     ]
    }
   ],
   "source": [
    "a=\"5 15 20 15 34 62 65 20 67 34 10\"\n",
    "lst=[]\n",
    "a1=a.split()\n",
    "for i in a1:\n",
    "    if i not in lst:\n",
    "        lst.append(i)\n",
    "x=\" \".join(lst)\n",
    "print(x)\n"
   ]
  },
  {
   "cell_type": "code",
   "execution_count": null,
   "metadata": {},
   "outputs": [],
   "source": []
  }
 ],
 "metadata": {
  "kernelspec": {
   "display_name": "Python 3",
   "language": "python",
   "name": "python3"
  },
  "language_info": {
   "codemirror_mode": {
    "name": "ipython",
    "version": 3
   },
   "file_extension": ".py",
   "mimetype": "text/x-python",
   "name": "python",
   "nbconvert_exporter": "python",
   "pygments_lexer": "ipython3",
   "version": "3.7.4"
  }
 },
 "nbformat": 4,
 "nbformat_minor": 2
}
