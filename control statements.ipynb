{
 "cells": [
  {
   "cell_type": "markdown",
   "metadata": {},
   "source": [
    "#  Check whether the given number is even or odd"
   ]
  },
  {
   "cell_type": "code",
   "execution_count": 3,
   "metadata": {},
   "outputs": [
    {
     "name": "stdout",
     "output_type": "stream",
     "text": [
      "enter any no:9\n",
      "It Is Odd\n"
     ]
    }
   ],
   "source": [
    "x=int(input(\"enter any no:\"))\n",
    "if x==0:\n",
    "    print(\"It Is Zero\")\n",
    "elif x%2==0:\n",
    "    print(\"It Is Even\")\n",
    "else:\n",
    "    print(\"It Is Odd\")\n",
    "    "
   ]
  },
  {
   "cell_type": "markdown",
   "metadata": {},
   "source": [
    "# Accept age of a person and decide whether the candidate is eligible for     voting or not"
   ]
  },
  {
   "cell_type": "code",
   "execution_count": 5,
   "metadata": {},
   "outputs": [
    {
     "name": "stdout",
     "output_type": "stream",
     "text": [
      "enter the age:17\n",
      "Not Eligible for Vote\n"
     ]
    }
   ],
   "source": [
    "n=int(input(\"enter the age:\"))\n",
    "if n>=18:\n",
    "    print(\"Eligible for Vote\")\n",
    "else:\n",
    "    print(\"Not Eligible for Vote\")\n",
    "    "
   ]
  },
  {
   "cell_type": "markdown",
   "metadata": {},
   "source": [
    "#  Check whether the given number is divible by 2 and 3 but not 4."
   ]
  },
  {
   "cell_type": "code",
   "execution_count": 8,
   "metadata": {},
   "outputs": [
    {
     "name": "stdout",
     "output_type": "stream",
     "text": [
      "enter any no:16\n",
      "not divisible\n"
     ]
    }
   ],
   "source": [
    "n=int(input(\"enter any no:\"))\n",
    "if (n%2==0 and n%3==0) and n%4!=0:\n",
    "    print(\"it is divisible by 2 and  3 but not by 4\")\n",
    "else:\n",
    "    print(\"not divisible\")\n",
    "    "
   ]
  },
  {
   "cell_type": "markdown",
   "metadata": {},
   "source": [
    "# find the large number from the given 3 numbers."
   ]
  },
  {
   "cell_type": "code",
   "execution_count": 11,
   "metadata": {},
   "outputs": [
    {
     "name": "stdout",
     "output_type": "stream",
     "text": [
      "enter a no:1\n",
      "enter b no:4\n",
      "enter c no:2\n",
      "B is big\n"
     ]
    }
   ],
   "source": [
    "a=int(input(\"enter a no:\"))\n",
    "b=int(input(\"enter b no:\"))\n",
    "c=int(input(\"enter c no:\"))\n",
    "if a>b and a>c:\n",
    "    print(\"A is big\")\n",
    "elif b>c:\n",
    "    print(\"B is big\")\n",
    "else:\n",
    "    print(\"C is big\")\n",
    "    "
   ]
  },
  {
   "cell_type": "markdown",
   "metadata": {},
   "source": [
    "#  check whether the given year is leap year or not.\n"
   ]
  },
  {
   "cell_type": "code",
   "execution_count": 22,
   "metadata": {},
   "outputs": [
    {
     "name": "stdout",
     "output_type": "stream",
     "text": [
      "enter the year:1996\n",
      "it is leap year\n"
     ]
    }
   ],
   "source": [
    "n=int(input(\"enter the year:\"))\n",
    "if (n%4==0 and n%400==0) or n%100!=0:\n",
    "    print(\"it is leap year\")\n",
    "else:\n",
    "    print(\"not a leap year\")\n",
    "    "
   ]
  },
  {
   "cell_type": "markdown",
   "metadata": {},
   "source": [
    "#  Read the string and char as input and print the number of occurances of charin the given string."
   ]
  },
  {
   "cell_type": "code",
   "execution_count": 27,
   "metadata": {},
   "outputs": [
    {
     "name": "stdout",
     "output_type": "stream",
     "text": [
      "enter the string:harshitha\n",
      "enter char:h\n",
      "3\n"
     ]
    }
   ],
   "source": [
    "x=input(\"enter the string:\")\n",
    "n=input(\"enter char:\")\n",
    "c=0\n",
    "if n in x:\n",
    "    print(x.count(n))\n",
    "else:\n",
    "    print(\"not in the string\")\n"
   ]
  },
  {
   "cell_type": "markdown",
   "metadata": {},
   "source": [
    "#  Read the input as string and print the output in the following manner\n",
    "    Input: PythonProgrMMINg \n",
    "   Output: pYTHONpROGRmminG"
   ]
  },
  {
   "cell_type": "code",
   "execution_count": 3,
   "metadata": {},
   "outputs": [
    {
     "name": "stdout",
     "output_type": "stream",
     "text": [
      "enter the stringHarshITHa\n",
      "hARSHithA\n"
     ]
    }
   ],
   "source": [
    "str=\"\"\n",
    "x=input(\"enter the string\")\n",
    "for i in x:\n",
    "    if i.islower()==True:\n",
    "        str=str+i.upper()\n",
    "    else:\n",
    "        str=str+i.lower()\n",
    "print(str)\n",
    "        "
   ]
  },
  {
   "cell_type": "markdown",
   "metadata": {},
   "source": [
    "# Test whether the string is palindrome or not"
   ]
  },
  {
   "cell_type": "code",
   "execution_count": 5,
   "metadata": {},
   "outputs": [
    {
     "name": "stdout",
     "output_type": "stream",
     "text": [
      "enter the string:harshitha\n",
      "not a palindrome\n"
     ]
    }
   ],
   "source": [
    "s=input(\"enter the string:\")\n",
    "if s==s[::-1]:\n",
    "    print(\"it is palindrome\")\n",
    "else:\n",
    "    print(\"not a palindrome\")\n",
    "    "
   ]
  },
  {
   "cell_type": "markdown",
   "metadata": {},
   "source": [
    "#  Convert string into list"
   ]
  },
  {
   "cell_type": "code",
   "execution_count": 7,
   "metadata": {},
   "outputs": [
    {
     "name": "stdout",
     "output_type": "stream",
     "text": [
      "[0, 1, 2, 3, 4, 5, 6, 7, 8, 9]\n"
     ]
    }
   ],
   "source": [
    "s=\"0123456789\"\n",
    "lst=[]\n",
    "for i in str:\n",
    "    lst.append(int(i))\n",
    "    \n",
    "print(lst)"
   ]
  },
  {
   "cell_type": "markdown",
   "metadata": {},
   "source": [
    "# Print the second largest string from the list of string:\n",
    "   a=[\"Python\",\"Java\",\"C\",\"programming\", \"Swift\"]\n"
   ]
  },
  {
   "cell_type": "code",
   "execution_count": 8,
   "metadata": {},
   "outputs": [
    {
     "name": "stdout",
     "output_type": "stream",
     "text": [
      "Python\n"
     ]
    }
   ],
   "source": [
    "a=[\"Python\",\"Java\",\"C\",\"programming\", \"Swift\"]\n",
    "x=sorted(a,key=len)\n",
    "print(x[-2])\n"
   ]
  },
  {
   "cell_type": "markdown",
   "metadata": {},
   "source": [
    "# Read the input as string and output will followed"
   ]
  },
  {
   "cell_type": "code",
   "execution_count": 3,
   "metadata": {},
   "outputs": [
    {
     "name": "stdout",
     "output_type": "stream",
     "text": [
      "puboif\n"
     ]
    }
   ],
   "source": [
    "str=\"orange\"\n",
    "str1=\"\"\n",
    "v=('a','e','i','o','u')\n",
    "for i in str:\n",
    "    if i in v:\n",
    "        str1=str1+(chr(ord(i)+1))\n",
    "    else:\n",
    "        if ord(i)>=98 and ord(i)<=100:\n",
    "            str1=str1+'e'\n",
    "        elif ord(i)>=102 and ord(i)<=104:\n",
    "            str1=str1+'i'\n",
    "        elif ord(i)>=106 and ord(i)<=110:\n",
    "            str1=str1+'o'\n",
    "        elif ord(i)>=112 and ord(i)<=116:\n",
    "            str1=str1+'u'\n",
    "            \n",
    "print(str1)\n",
    "        "
   ]
  },
  {
   "cell_type": "code",
   "execution_count": null,
   "metadata": {},
   "outputs": [],
   "source": []
  }
 ],
 "metadata": {
  "kernelspec": {
   "display_name": "Python 3",
   "language": "python",
   "name": "python3"
  },
  "language_info": {
   "codemirror_mode": {
    "name": "ipython",
    "version": 3
   },
   "file_extension": ".py",
   "mimetype": "text/x-python",
   "name": "python",
   "nbconvert_exporter": "python",
   "pygments_lexer": "ipython3",
   "version": "3.7.4"
  }
 },
 "nbformat": 4,
 "nbformat_minor": 2
}
