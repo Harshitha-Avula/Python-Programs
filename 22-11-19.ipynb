{
 "cells": [
  {
   "cell_type": "code",
   "execution_count": null,
   "metadata": {},
   "outputs": [],
   "source": [
    "f=open(\"python.txt\",mode='r')\n",
    "f.mode\n",
    "f.read()"
   ]
  },
  {
   "cell_type": "code",
   "execution_count": null,
   "metadata": {},
   "outputs": [],
   "source": [
    "f.write(\"Harshi\")"
   ]
  },
  {
   "cell_type": "code",
   "execution_count": null,
   "metadata": {},
   "outputs": [],
   "source": [
    "f1=open(\"python.txt\")\n",
    "for i in f1:\n",
    "    print(i)"
   ]
  },
  {
   "cell_type": "code",
   "execution_count": null,
   "metadata": {},
   "outputs": [],
   "source": [
    "with open(\"python.txt\",mode='w') as f:\n",
    "    f.write(\"i am harshitha\")"
   ]
  },
  {
   "cell_type": "code",
   "execution_count": null,
   "metadata": {},
   "outputs": [],
   "source": [
    "import os\n",
    "os.rename(\"python file.txt\",\"python1.txt\")"
   ]
  },
  {
   "cell_type": "code",
   "execution_count": null,
   "metadata": {},
   "outputs": [],
   "source": [
    "with open(\"python.txt\",mode='a') as f:\n",
    "    f.write(\"python developer\")"
   ]
  },
  {
   "cell_type": "markdown",
   "metadata": {},
   "source": [
    "##  Function to create a file and write to the file"
   ]
  },
  {
   "cell_type": "code",
   "execution_count": null,
   "metadata": {},
   "outputs": [],
   "source": [
    "def display(file,mode):\n",
    "    f=open(file,mode)\n",
    "    f.writelines(\"Hello, My name is Harshitha\\nI have done my graduation in Guntur\\nThat means i am from AP.\")\n",
    "    f.close()\n",
    "a=input(\"enter a file name:\")\n",
    "b=input(\"enter a mode:\")\n",
    "display(a,b)"
   ]
  },
  {
   "cell_type": "markdown",
   "metadata": {},
   "source": [
    "##  Function to read of the file"
   ]
  },
  {
   "cell_type": "code",
   "execution_count": null,
   "metadata": {},
   "outputs": [],
   "source": [
    "def display(file,mode):\n",
    "    f=open(file,mode)\n",
    "    a=f.read()\n",
    "    print(a)\n",
    "a=input(\"enter a file name:\")\n",
    "b=input(\"enter a mode:\")\n",
    "display(a,b)"
   ]
  },
  {
   "cell_type": "markdown",
   "metadata": {},
   "source": [
    "## Word Count Program-Count the number of words present in the text file."
   ]
  },
  {
   "cell_type": "code",
   "execution_count": null,
   "metadata": {},
   "outputs": [],
   "source": [
    "def harshi(name,mode):\n",
    "    c=0\n",
    "    with open(name,mode) as f:\n",
    "        a=f.read()\n",
    "        h=a.split()\n",
    "        for i in h:\n",
    "            c=c+1\n",
    "    print(c)\n",
    "b=input(\"enter file name:\")\n",
    "c=input(\"enter  the mode:\")\n",
    "harshi(b,c)"
   ]
  },
  {
   "cell_type": "markdown",
   "metadata": {},
   "source": [
    "## Count the number of characters from the given file\n"
   ]
  },
  {
   "cell_type": "code",
   "execution_count": null,
   "metadata": {},
   "outputs": [],
   "source": [
    "def file_name():\n",
    "    c=0\n",
    "    with open(\"file.txt\",mode='r') as f:\n",
    "        a=f.read()\n",
    "        for i in a:\n",
    "            b=i.split()\n",
    "            for j in b:\n",
    "                c=c+1\n",
    "        print(c)\n",
    "file_name()\n",
    "            \n",
    "        "
   ]
  },
  {
   "cell_type": "markdown",
   "metadata": {},
   "source": [
    "## Function to find the no of lines in the input file"
   ]
  },
  {
   "cell_type": "code",
   "execution_count": null,
   "metadata": {},
   "outputs": [],
   "source": [
    "def display():\n",
    "    c=0\n",
    "    with open(\"file.txt\",mode='r') as f:\n",
    "        a=f.readlines()\n",
    "        for i in a:\n",
    "            c=c+1\n",
    "        print(c)\n",
    "display()\n",
    "        "
   ]
  },
  {
   "cell_type": "markdown",
   "metadata": {},
   "source": [
    "## Function to print the Upper and Lower characters from the given file.\n"
   ]
  },
  {
   "cell_type": "code",
   "execution_count": 2,
   "metadata": {},
   "outputs": [
    {
     "name": "stdout",
     "output_type": "stream",
     "text": [
      "enter file name:file.txt\n",
      "HMHIGTAP\n",
      "ello, y name is arshitha\n",
      " have done my graduation in untur\n",
      "hat means i am from .\n"
     ]
    }
   ],
   "source": [
    "def findupperlower(name):\n",
    "    l1=''\n",
    "    l2=''\n",
    "    with open(name,'r') as f:\n",
    "        x=f.read()\n",
    "        for i in x:\n",
    "            if i.isupper()==True:\n",
    "                l1=l1+(i)\n",
    "            else:\n",
    "                l2=l2+(i)\n",
    "        print(l1)\n",
    "        print(l2)\n",
    "name=input('enter file name:')\n",
    "findupperlower(name)\n"
   ]
  },
  {
   "cell_type": "markdown",
   "metadata": {},
   "source": [
    "## The list of lines containing the desired pattern as shown in the Example Input/Output sections.\n",
    "\n",
    "Example Input/Output 1:\n",
    "\n",
    "Input:\n",
    "\n",
    "41325\n",
    "\n",
    "Output:\n",
    "\n",
    "|****\n",
    "\n",
    "|*\n",
    "\n",
    "|***\n",
    "\n",
    "|**\n",
    "\n",
    "|*****\n",
    "\n",
    "Example Input/Output 2:\n",
    "\n",
    "Input:\n",
    "\n",
    "60710\n",
    "\n",
    "Output:\n",
    "\n",
    "|******\n",
    "\n",
    "|\n",
    "\n",
    "|*******\n",
    "\n",
    "|*\n",
    "\n",
    "|\n"
   ]
  },
  {
   "cell_type": "code",
   "execution_count": 35,
   "metadata": {},
   "outputs": [
    {
     "name": "stdout",
     "output_type": "stream",
     "text": [
      "enter a no:1234\n",
      "| *\n",
      "| **\n",
      "| ***\n",
      "| ****\n"
     ]
    }
   ],
   "source": [
    "n=int(input(\"enter a no:\"))\n",
    "l=[]\n",
    "while n>0:\n",
    "    r=n%10\n",
    "    l.append(r)\n",
    "    n=n//10\n",
    "b=l[::-1]\n",
    "for i in b:\n",
    "    print(\"|\",('*'*i))\n",
    "    "
   ]
  },
  {
   "cell_type": "markdown",
   "metadata": {},
   "source": [
    "## Write a Python program that accepts a word from the user and reverse it. "
   ]
  },
  {
   "cell_type": "code",
   "execution_count": 18,
   "metadata": {},
   "outputs": [
    {
     "name": "stdout",
     "output_type": "stream",
     "text": [
      "enter a word:harshi\n",
      "i+h+s+r+a+h\n"
     ]
    }
   ],
   "source": [
    "n=input(\"enter a word:\")\n",
    "l=[]\n",
    "for i in n:\n",
    "    l.append(i)\n",
    "    a=l[::-1]\n",
    "b=\" \".join(a)\n",
    "print(b)\n",
    "\n",
    "    "
   ]
  },
  {
   "cell_type": "markdown",
   "metadata": {},
   "source": [
    "## Write a Python program that prints all the numbers except multiples of 3."
   ]
  },
  {
   "cell_type": "code",
   "execution_count": 23,
   "metadata": {},
   "outputs": [
    {
     "name": "stdout",
     "output_type": "stream",
     "text": [
      "enter a no:21\n",
      "1\n",
      "2\n",
      "4\n",
      "5\n",
      "7\n",
      "8\n",
      "10\n",
      "11\n",
      "13\n",
      "14\n",
      "16\n",
      "17\n",
      "19\n",
      "20\n"
     ]
    }
   ],
   "source": [
    "n=int(input(\"enter a no:\"))\n",
    "for i in range(0,n+1):\n",
    "    if i%3!=0:\n",
    "        print(i)\n",
    "\n",
    "        "
   ]
  },
  {
   "cell_type": "markdown",
   "metadata": {},
   "source": [
    "##  Write a Python program that accepts a string and calculate the number of digits and letters. \n",
    "         Input: Python 3.6\n",
    "        Expected Output :\n",
    "                  Letters 6\n",
    "                  Digits 2 "
   ]
  },
  {
   "cell_type": "code",
   "execution_count": 49,
   "metadata": {},
   "outputs": [
    {
     "name": "stdout",
     "output_type": "stream",
     "text": [
      "enter the string:python 3.7\n",
      "letters = 6,digits = 2\n"
     ]
    }
   ],
   "source": [
    "n=input(\"enter the string:\")\n",
    "d=0\n",
    "l=0\n",
    "for i in n:\n",
    "    if i.isalpha():\n",
    "        l=l+1\n",
    "    elif i.isdigit():\n",
    "        d=d+1\n",
    "print(\"letters = {},digits = {}\".format(l,d))\n",
    "        "
   ]
  },
  {
   "cell_type": "markdown",
   "metadata": {},
   "source": [
    "## Write a Python program to check the validity of password input by users. \n",
    "Validation :\n",
    "At least 1 letter between [a-z] and 1 letter between [A-Z].\n",
    "At least 1 number between [0-9].\n",
    "At least 1 character from [$#@].\n",
    "Minimum length 6 characters.\n",
    "Maximum length 16 characters"
   ]
  },
  {
   "cell_type": "code",
   "execution_count": null,
   "metadata": {},
   "outputs": [],
   "source": []
  },
  {
   "cell_type": "markdown",
   "metadata": {},
   "source": [
    "##  Write a Python program to check whether an alphabet is a vowel or consonant. \n",
    "     Expected Output:\n",
    "    Input a letter of the alphabet: k                                       \n",
    "    k is a consonant."
   ]
  },
  {
   "cell_type": "code",
   "execution_count": 40,
   "metadata": {},
   "outputs": [
    {
     "name": "stdout",
     "output_type": "stream",
     "text": [
      "enter a char:a\n",
      " It Is Vowel \n"
     ]
    }
   ],
   "source": [
    "n=input(\"enter a char:\")\n",
    "tpl=('a','e','i','o','u')\n",
    "if n not in tpl:\n",
    "    print(\" It Is Consonent \")\n",
    "else:\n",
    "    print(\" It Is Vowel \")\n",
    "        "
   ]
  },
  {
   "cell_type": "markdown",
   "metadata": {},
   "source": [
    "##  Write a Python program to check a string represent an integer or not.\n",
    "   Expected Output:\n",
    "      Input a string: Python                                                  \n",
    "      The string is not an integer.  "
   ]
  },
  {
   "cell_type": "code",
   "execution_count": 58,
   "metadata": {},
   "outputs": [
    {
     "name": "stdout",
     "output_type": "stream",
     "text": [
      "enter a string:jh34iukghk\n",
      "it is string\n"
     ]
    }
   ],
   "source": [
    "n=input(\"enter a string:\")\n",
    "if n.isdigit():\n",
    "    print(\"it is integer\")\n",
    "elif n.isalnum():\n",
    "    print(\"it is string\")"
   ]
  },
  {
   "cell_type": "markdown",
   "metadata": {},
   "source": []
  }
 ],
 "metadata": {
  "kernelspec": {
   "display_name": "Python 3",
   "language": "python",
   "name": "python3"
  },
  "language_info": {
   "codemirror_mode": {
    "name": "ipython",
    "version": 3
   },
   "file_extension": ".py",
   "mimetype": "text/x-python",
   "name": "python",
   "nbconvert_exporter": "python",
   "pygments_lexer": "ipython3",
   "version": "3.7.4"
  }
 },
 "nbformat": 4,
 "nbformat_minor": 2
}
