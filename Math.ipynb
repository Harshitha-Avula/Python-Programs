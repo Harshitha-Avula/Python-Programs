{
 "cells": [
  {
   "cell_type": "code",
   "execution_count": 2,
   "metadata": {},
   "outputs": [
    {
     "data": {
      "text/plain": [
       "3628800"
      ]
     },
     "execution_count": 2,
     "metadata": {},
     "output_type": "execute_result"
    }
   ],
   "source": [
    "from math import factorial as fact # will imports only specific function as alias name\n",
    "fact(10)"
   ]
  },
  {
   "cell_type": "code",
   "execution_count": 3,
   "metadata": {},
   "outputs": [
    {
     "data": {
      "text/plain": [
       "5"
      ]
     },
     "execution_count": 3,
     "metadata": {},
     "output_type": "execute_result"
    }
   ],
   "source": [
    "from math import gcd as gcd\n",
    "gcd(10,15)"
   ]
  },
  {
   "cell_type": "code",
   "execution_count": 4,
   "metadata": {},
   "outputs": [
    {
     "data": {
      "text/plain": [
       "123"
      ]
     },
     "execution_count": 4,
     "metadata": {},
     "output_type": "execute_result"
    }
   ],
   "source": [
    "import math # imports all the functions into python program\n",
    "math.floor(123.67867)"
   ]
  },
  {
   "cell_type": "code",
   "execution_count": 10,
   "metadata": {},
   "outputs": [
    {
     "name": "stdout",
     "output_type": "stream",
     "text": [
      "5 59 72 61 59 37 3 18 86 99 "
     ]
    }
   ],
   "source": [
    "import random\n",
    "# function to generate the N numbers in given range\n",
    "def display(n,ib,ub):\n",
    "    for i in range(0,n):\n",
    "        print(random.randint(ib,ub),end=' ')\n",
    "    return\n",
    "display(10,0,100)"
   ]
  },
  {
   "cell_type": "code",
   "execution_count": 20,
   "metadata": {},
   "outputs": [
    {
     "name": "stdout",
     "output_type": "stream",
     "text": [
      "Try Again!!!\n"
     ]
    }
   ],
   "source": [
    "from random import  randint as rdint\n",
    "def display(n,lb,ub):\n",
    "    l=[]\n",
    "    for i in range(0,n):\n",
    "        l.append(rdint(lb,ub))\n",
    "    return l\n",
    "def check(n):\n",
    "    l=display(20,100,999)\n",
    "    if n in l:\n",
    "        print(\"congrats!!!\")\n",
    "    else:\n",
    "        print(\"Try Again!!!\")\n",
    "check(476)"
   ]
  },
  {
   "cell_type": "code",
   "execution_count": null,
   "metadata": {},
   "outputs": [],
   "source": []
  }
 ],
 "metadata": {
  "kernelspec": {
   "display_name": "Python 3",
   "language": "python",
   "name": "python3"
  },
  "language_info": {
   "codemirror_mode": {
    "name": "ipython",
    "version": 3
   },
   "file_extension": ".py",
   "mimetype": "text/x-python",
   "name": "python",
   "nbconvert_exporter": "python",
   "pygments_lexer": "ipython3",
   "version": "3.7.4"
  }
 },
 "nbformat": 4,
 "nbformat_minor": 2
}
