{
 "cells": [
  {
   "cell_type": "code",
   "execution_count": null,
   "metadata": {},
   "outputs": [],
   "source": [
    "def display(a,b):\n",
    "    return a+b\n",
    "n1=int(input(\"enter a no:\"))\n",
    "n2=int(input(\"enter b no:\"))\n",
    "res=display(n1,n2)\n",
    "print(res)"
   ]
  },
  {
   "cell_type": "code",
   "execution_count": 4,
   "metadata": {},
   "outputs": [
    {
     "name": "stdout",
     "output_type": "stream",
     "text": [
      "enter a no:2\n",
      "no\n",
      "yes\n"
     ]
    }
   ],
   "source": [
    "import numpy as np\n",
    "arr=np.arange(10)\n",
    "a_c=list(arr)\n",
    "n=int(input(\"enter a no:\"))\n",
    "def display(arr):\n",
    "    if arr[1]==n:\n",
    "        print(\"yes\")\n",
    "    else:\n",
    "        print(\"no\")\n",
    "    for i in arr:\n",
    "        if n==i:\n",
    "            print(\"yes\")\n",
    "a=display(a_c)"
   ]
  },
  {
   "cell_type": "code",
   "execution_count": 7,
   "metadata": {},
   "outputs": [
    {
     "name": "stdout",
     "output_type": "stream",
     "text": [
      "9\n",
      "[0, 1, 2, 3, 4, 5, 6, 7, 8]\n",
      "36\n"
     ]
    }
   ],
   "source": [
    "import numpy as np\n",
    "def simpleArraySum(ar):\n",
    "    # Write your code here.\n",
    "    c=0\n",
    "    for i in ar:\n",
    "        c=c+i\n",
    "    print(c)\n",
    "\n",
    "n=int(input())\n",
    "arr=np.arange(n)\n",
    "ar=list(arr)\n",
    "print(ar)\n",
    "a=simpleArraySum(ar)\n",
    "\n"
   ]
  },
  {
   "cell_type": "code",
   "execution_count": null,
   "metadata": {},
   "outputs": [],
   "source": []
  }
 ],
 "metadata": {
  "kernelspec": {
   "display_name": "Python 3",
   "language": "python",
   "name": "python3"
  },
  "language_info": {
   "codemirror_mode": {
    "name": "ipython",
    "version": 3
   },
   "file_extension": ".py",
   "mimetype": "text/x-python",
   "name": "python",
   "nbconvert_exporter": "python",
   "pygments_lexer": "ipython3",
   "version": "3.7.4"
  }
 },
 "nbformat": 4,
 "nbformat_minor": 2
}
