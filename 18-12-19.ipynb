{
 "cells": [
  {
   "cell_type": "code",
   "execution_count": 1,
   "metadata": {},
   "outputs": [
    {
     "name": "stdout",
     "output_type": "stream",
     "text": [
      "i am motorcycle\n",
      "general use:transportation\n"
     ]
    }
   ],
   "source": [
    "class vehicle:\n",
    "    def general_usage(self):\n",
    "        print(\"general use:transportation\")\n",
    "class car(vehicle):\n",
    "    def __init__(self):\n",
    "        print(\"i am car\")\n",
    "        self.wheeels=4\n",
    "        self.has_roof=True\n",
    "    def spe_use(self):\n",
    "        print(\"...........\")\n",
    "class motorcycle(vehicle):\n",
    "    def __init__(self):\n",
    "        print(\"i am motorcycle\")\n",
    "        self.wheeels=4\n",
    "        self.has_roof=True\n",
    "    def spe_use(self):\n",
    "        print(\"...........\")\n",
    "\n",
    "a=motorcycle()\n",
    "a.general_usage()"
   ]
  },
  {
   "cell_type": "code",
   "execution_count": null,
   "metadata": {},
   "outputs": [],
   "source": []
  }
 ],
 "metadata": {
  "kernelspec": {
   "display_name": "Python 3",
   "language": "python",
   "name": "python3"
  },
  "language_info": {
   "codemirror_mode": {
    "name": "ipython",
    "version": 3
   },
   "file_extension": ".py",
   "mimetype": "text/x-python",
   "name": "python",
   "nbconvert_exporter": "python",
   "pygments_lexer": "ipython3",
   "version": "3.7.4"
  }
 },
 "nbformat": 4,
 "nbformat_minor": 2
}
