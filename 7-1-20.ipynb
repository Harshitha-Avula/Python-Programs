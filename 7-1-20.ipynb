{
 "cells": [
  {
   "cell_type": "code",
   "execution_count": 3,
   "metadata": {},
   "outputs": [
    {
     "name": "stdout",
     "output_type": "stream",
     "text": [
      "enter a string : harshitha\n",
      "h rsh th \n"
     ]
    }
   ],
   "source": [
    "n=input(\"enter a string : \")\n",
    "vowels=('a','e','i','o','u')\n",
    "for i in n.lower():\n",
    "    if i in vowels:\n",
    "        n=n.replace(i,' ')\n",
    "print(n)\n"
   ]
  },
  {
   "cell_type": "code",
   "execution_count": 45,
   "metadata": {},
   "outputs": [
    {
     "name": "stdout",
     "output_type": "stream",
     "text": [
      "enter a no : 100\n",
      "Non Prime Factor Count :  5\n"
     ]
    }
   ],
   "source": [
    "def nonPrimeFactorCount(n):\n",
    "    c=0\n",
    "    for i in range(1,n):\n",
    "        if n%i==0:\n",
    "            if i%2==0:\n",
    "                c=c+1\n",
    "    print(\"Non Prime Factor Count : \",c)\n",
    "            \n",
    "n=int(input(\"enter a no : \"))   \n",
    "nonPrimeFactorCount(n)"
   ]
  },
  {
   "cell_type": "code",
   "execution_count": 46,
   "metadata": {},
   "outputs": [
    {
     "name": "stdout",
     "output_type": "stream",
     "text": [
      "enter a no : 3425234\n",
      "enter a digit : 2\n"
     ]
    },
    {
     "data": {
      "text/plain": [
       "2"
      ]
     },
     "execution_count": 46,
     "metadata": {},
     "output_type": "execute_result"
    }
   ],
   "source": [
    "def frequencyCount(n,d):\n",
    "    c=0\n",
    "    while n>0:\n",
    "        if n%10==d:\n",
    "            c=c+1\n",
    "        n=n//10\n",
    "    return c\n",
    "        \n",
    "n=int(input(\"enter a no : \"))\n",
    "d=int(input(\"enter a digit : \"))\n",
    "frequencyCount(n,d)"
   ]
  },
  {
   "cell_type": "code",
   "execution_count": 51,
   "metadata": {},
   "outputs": [
    {
     "name": "stdout",
     "output_type": "stream",
     "text": [
      "1 : 3\n",
      "3 : 1\n",
      "8 : 2\n",
      "4 : 2\n",
      "2 : 2\n"
     ]
    }
   ],
   "source": [
    "def countFreq(lst, n): \n",
    "    a = dict() \n",
    "    for i in range(n): \n",
    "        if lst[i] in a.keys(): \n",
    "            a[lst[i]] += 1\n",
    "        else: \n",
    "            a[lst[i]] = 1\n",
    "    for x in a: \n",
    "        print(x, \":\", a[x]) \n",
    "lst = [1,3,1,8,4,2,1,2,8,4 ] \n",
    "n = len(lst) \n",
    "countFreq(lst, n) "
   ]
  },
  {
   "cell_type": "code",
   "execution_count": 53,
   "metadata": {},
   "outputs": [
    {
     "name": "stdout",
     "output_type": "stream",
     "text": [
      "hai\n"
     ]
    }
   ],
   "source": [
    "a=0\n",
    "a+=1\n",
    "if a:\n",
    "    print(\"hello\")\n",
    "else:\n",
    "    print(\"hai\")"
   ]
  },
  {
   "cell_type": "code",
   "execution_count": null,
   "metadata": {},
   "outputs": [],
   "source": []
  }
 ],
 "metadata": {
  "kernelspec": {
   "display_name": "Python 3",
   "language": "python",
   "name": "python3"
  },
  "language_info": {
   "codemirror_mode": {
    "name": "ipython",
    "version": 3
   },
   "file_extension": ".py",
   "mimetype": "text/x-python",
   "name": "python",
   "nbconvert_exporter": "python",
   "pygments_lexer": "ipython3",
   "version": "3.7.4"
  }
 },
 "nbformat": 4,
 "nbformat_minor": 2
}
