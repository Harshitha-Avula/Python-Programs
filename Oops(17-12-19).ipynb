{
 "cells": [
  {
   "cell_type": "markdown",
   "metadata": {},
   "source": [
    "## Polymorphism"
   ]
  },
  {
   "cell_type": "code",
   "execution_count": 1,
   "metadata": {},
   "outputs": [
    {
     "data": {
      "text/plain": [
       "8"
      ]
     },
     "execution_count": 1,
     "metadata": {},
     "output_type": "execute_result"
    }
   ],
   "source": [
    "3+5 #addition"
   ]
  },
  {
   "cell_type": "code",
   "execution_count": 2,
   "metadata": {},
   "outputs": [
    {
     "data": {
      "text/plain": [
       "'abcxyz'"
      ]
     },
     "execution_count": 2,
     "metadata": {},
     "output_type": "execute_result"
    }
   ],
   "source": [
    "\"abc\" + \"xyz\" # concatenation"
   ]
  },
  {
   "cell_type": "code",
   "execution_count": 11,
   "metadata": {},
   "outputs": [
    {
     "data": {
      "text/plain": [
       "69"
      ]
     },
     "execution_count": 11,
     "metadata": {},
     "output_type": "execute_result"
    }
   ],
   "source": [
    "# function overloading\n",
    "def add(x,y):\n",
    "    return x+y\n",
    "def add(x,y,z):\n",
    "    return x+y+z\n",
    "\n",
    "#add(10,20)\n",
    "add(12,23,34)\n"
   ]
  },
  {
   "cell_type": "code",
   "execution_count": 12,
   "metadata": {},
   "outputs": [
    {
     "name": "stdout",
     "output_type": "stream",
     "text": [
      "114\n",
      "1960\n"
     ]
    }
   ],
   "source": [
    "def add(*x):\n",
    "    s=0\n",
    "    for i in x:\n",
    "        s+=i\n",
    "    return s\n",
    "print(add(12,23,34,45))\n",
    "print(add(1910,20,30))\n",
    "#Variable length Method it will take many values         "
   ]
  },
  {
   "cell_type": "code",
   "execution_count": 15,
   "metadata": {},
   "outputs": [
    {
     "name": "stdout",
     "output_type": "stream",
     "text": [
      "30\n"
     ]
    }
   ],
   "source": [
    "# method overloading\n",
    "class A:\n",
    "    def __init__(self,x,y):\n",
    "        self.x=x\n",
    "        self.y=y\n",
    "    def add(self):\n",
    "        print(self.x+self.y)\n",
    "  #  def a(self):\n",
    "  #      return self,x+self.y+self.z\n",
    "a=A(10,20)\n",
    "a.add()\n",
    "#using init method"
   ]
  },
  {
   "cell_type": "code",
   "execution_count": 23,
   "metadata": {},
   "outputs": [
    {
     "name": "stdout",
     "output_type": "stream",
     "text": [
      "60\n"
     ]
    }
   ],
   "source": [
    "#Method Overloading\n",
    "class A:\n",
    "    def add(self,x,y):\n",
    "        print(x+y)\n",
    "    def add(self,x,y,z):\n",
    "        print(x+y+z)\n",
    "a=A()\n",
    "a.add(10,20,30)\n",
    "#a.add(10,20)"
   ]
  },
  {
   "cell_type": "code",
   "execution_count": 1,
   "metadata": {},
   "outputs": [
    {
     "name": "stdout",
     "output_type": "stream",
     "text": [
      "This is class B method\n"
     ]
    }
   ],
   "source": [
    "#Method Overriding\n",
    "class A:\n",
    "    def add(self):\n",
    "        print(\"This is class A method\")\n",
    "class B(A):\n",
    "    def add(self):\n",
    "        print(\"This is class B method\")\n",
    "b=B()\n",
    "b.add()\n",
    "# same method given to both classes"
   ]
  },
  {
   "cell_type": "markdown",
   "metadata": {},
   "source": [
    "## 18-12-19"
   ]
  },
  {
   "cell_type": "code",
   "execution_count": 22,
   "metadata": {},
   "outputs": [
    {
     "name": "stdout",
     "output_type": "stream",
     "text": [
      "(30, 50)\n",
      "obj1 is < obj2\n"
     ]
    }
   ],
   "source": [
    "# Operator Overloading\n",
    "# a,b are objects of user defined class 'A'\n",
    "class A:\n",
    "    def __init__(self,x,y):\n",
    "        self.x=x\n",
    "        self.y=y\n",
    "    def __add__(self,value):\n",
    "        return (self.x+value.x,self.y+value.y)\n",
    "    def __lt__(self,value):\n",
    "        if self.x+self.y < value.x+value.y:\n",
    "            print(\"obj1 is < obj2\")\n",
    "        else:\n",
    "            print(\"obj1 is > obj2\")\n",
    "a=A(10,20)\n",
    "b=A(20,30)\n",
    "print(a+b)\n",
    "a<b\n",
    "# print(a>b)\n"
   ]
  },
  {
   "cell_type": "code",
   "execution_count": 6,
   "metadata": {},
   "outputs": [],
   "source": [
    "# x,y objects of predefined class 'int'\n",
    "x=10\n",
    "y=20\n",
    "x+y\n",
    "def __add__(self,value):\n",
    "    return self+value"
   ]
  },
  {
   "cell_type": "markdown",
   "metadata": {},
   "source": [
    "## Encapsulation"
   ]
  },
  {
   "cell_type": "code",
   "execution_count": null,
   "metadata": {},
   "outputs": [],
   "source": [
    "# encapsulation : binding members and methods into a single unit\n",
    "# class --> data members(variables),methods(function)"
   ]
  },
  {
   "cell_type": "markdown",
   "metadata": {},
   "source": [
    "## Abstraction"
   ]
  },
  {
   "cell_type": "code",
   "execution_count": 30,
   "metadata": {},
   "outputs": [
    {
     "name": "stdout",
     "output_type": "stream",
     "text": [
      "1\n",
      "2\n",
      "2\n"
     ]
    }
   ],
   "source": [
    "# abstraction : data hiding\n",
    "class A:\n",
    "    __a = 0\n",
    "    def count(self):\n",
    "        self.__a+=1\n",
    "        print(self.__a)\n",
    "o=A()\n",
    "o.count()\n",
    "o.count()\n",
    "print(o._A__a)"
   ]
  },
  {
   "cell_type": "code",
   "execution_count": null,
   "metadata": {},
   "outputs": [],
   "source": []
  }
 ],
 "metadata": {
  "kernelspec": {
   "display_name": "Python 3",
   "language": "python",
   "name": "python3"
  },
  "language_info": {
   "codemirror_mode": {
    "name": "ipython",
    "version": 3
   },
   "file_extension": ".py",
   "mimetype": "text/x-python",
   "name": "python",
   "nbconvert_exporter": "python",
   "pygments_lexer": "ipython3",
   "version": "3.7.4"
  }
 },
 "nbformat": 4,
 "nbformat_minor": 2
}
